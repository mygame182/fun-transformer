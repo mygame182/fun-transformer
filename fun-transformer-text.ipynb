{
 "cells": [
  {
   "cell_type": "markdown",
   "metadata": {},
   "source": [
    "## Chapter 1\n",
    "### 1.introduction"
   ]
  },
  {
   "cell_type": "markdown",
   "metadata": {},
   "source": [
    "1 什么是seq2seq\n",
    "\n",
    "解决什么问题：传统深度学习（如：cnn）输入和输出的格式一般是固定的，例如输入图片尺寸固定（可以padding增大），输出分类结果固定。seq2seq的输入、输出可以是不固定的。\n",
    "\n",
    "优点：  \n",
    "1、端到端：无需输入数据预处理  \n",
    "2、可处理变长度序列  \n",
    "3、信息压缩表示：输入经编码器转换为固定维度的上下文向量  \n",
    "4、可扩展：能够与cnn、rnn无缝衔接  \n",
    "\n",
    "缺点：  \n",
    "1、向量压缩可能存在信息损失  \n",
    "2、短期记忆限制  \n",
    "3、暴露偏差：训练与推理阶段的生成模式不一致  \n",
    "\n",
    "2 什么是Encode-Decode模型\n",
    "\n",
    "输入序列 --> 编码器 Encoder --> (上下文向量) --> 解码器 Decoder --> 输出序列  \n",
    "seq --> RNN  -->  (上下文向量) --> RNN --> seq  \n",
    "\n",
    "3 Attention 的提出\n",
    "\n",
    "seq2seq 的缺陷：压缩导致信息损失\n",
    "\n",
    "解决方案：编码器输出不再是固定长度的向量，而是一个向量序列（矩阵）"
   ]
  },
  {
   "cell_type": "markdown",
   "metadata": {},
   "source": []
  },
  {
   "cell_type": "code",
   "execution_count": 1,
   "metadata": {},
   "outputs": [
    {
     "ename": "ModuleNotFoundError",
     "evalue": "No module named 'matplotlib'",
     "output_type": "error",
     "traceback": [
      "\u001b[1;31m---------------------------------------------------------------------------\u001b[0m",
      "\u001b[1;31mModuleNotFoundError\u001b[0m                       Traceback (most recent call last)",
      "Cell \u001b[1;32mIn[1], line 2\u001b[0m\n\u001b[0;32m      1\u001b[0m \u001b[38;5;28;01mimport\u001b[39;00m \u001b[38;5;21;01mnumpy\u001b[39;00m \u001b[38;5;28;01mas\u001b[39;00m \u001b[38;5;21;01mnp\u001b[39;00m\n\u001b[1;32m----> 2\u001b[0m \u001b[38;5;28;01mimport\u001b[39;00m \u001b[38;5;21;01mmatplotlib\u001b[39;00m\u001b[38;5;21;01m.\u001b[39;00m\u001b[38;5;21;01mpyplot\u001b[39;00m \u001b[38;5;28;01mas\u001b[39;00m \u001b[38;5;21;01mplt\u001b[39;00m\n\u001b[0;32m      3\u001b[0m plt\u001b[38;5;241m.\u001b[39mrcParams[\u001b[38;5;124m'\u001b[39m\u001b[38;5;124mfont.sans-serif\u001b[39m\u001b[38;5;124m'\u001b[39m] \u001b[38;5;241m=\u001b[39m [\u001b[38;5;124m'\u001b[39m\u001b[38;5;124mArial Unicode MS\u001b[39m\u001b[38;5;124m'\u001b[39m] \u001b[38;5;66;03m#matplotlib字体显示\u001b[39;00m\n\u001b[0;32m      4\u001b[0m \u001b[38;5;28;01mfrom\u001b[39;00m \u001b[38;5;21;01mmpl_toolkits\u001b[39;00m\u001b[38;5;21;01m.\u001b[39;00m\u001b[38;5;21;01mmplot3d\u001b[39;00m \u001b[38;5;28;01mimport\u001b[39;00m Axes3D\n",
      "\u001b[1;31mModuleNotFoundError\u001b[0m: No module named 'matplotlib'"
     ]
    }
   ],
   "source": [
    "import numpy as np\n",
    "import matplotlib.pyplot as plt\n",
    "plt.rcParams['font.sans-serif'] = ['Arial Unicode MS'] #matplotlib字体显示\n",
    "from mpl_toolkits.mplot3d import Axes3D\n",
    "\n",
    "\n",
    "# 定义词汇及其对应的三维向量\n",
    "words = [\"cat\", \"dog\", \"love\", \"run\", \"jump\"]\n",
    "vectors = [[0.3, 0.4, 0.25], [0.35, 0.45, 0.3], [0.8, 0.8, 0.8], [0.1, 0.2, 0.6], [0.2, 0.3, 0.5]] #可以添加三维的词汇向量\n",
    "\n",
    "# 将嵌套列表转换为numpy数组\n",
    "vectors = np.array(vectors)\n",
    "\n",
    "# 创建3D图形\n",
    "fig = plt.figure(figsize=(10, 7))\n",
    "ax = fig.add_subplot(111, projection='3d')\n",
    "\n",
    "# 为每个词汇及其向量绘图\n",
    "scatter = ax.scatter(vectors[:, 0], vectors[:, 1], vectors[:, 2], \n",
    "                     c=['blue', 'green', 'red', 'purple', 'grey'], s=100)\n",
    "\n",
    "# 为每个点添加标签\n",
    "for i, word in enumerate(words):\n",
    "    ax.text(vectors[i, 0], vectors[i, 1], vectors[i, 2], word, size=15, zorder=1)\n",
    "\n",
    "# 设置图形属性\n",
    "ax.set_xlabel('X axis', fontsize=14)\n",
    "ax.set_ylabel('Y axis', fontsize=14)\n",
    "ax.set_zlabel('Z axis', fontsize=14)\n",
    "\n",
    "# 移除坐标轴的数字标签\n",
    "ax.set_xticklabels([])\n",
    "ax.set_yticklabels([])\n",
    "ax.set_zticklabels([])\n",
    "\n",
    "# 设置背景颜色和网格线\n",
    "ax.set_facecolor('white')\n",
    "ax.grid(True)\n",
    "\n",
    "# 显示图形\n",
    "plt.show()"
   ]
  },
  {
   "cell_type": "code",
   "execution_count": null,
   "metadata": {},
   "outputs": [
    {
     "name": "stdout",
     "output_type": "stream",
     "text": [
      "^C\n"
     ]
    }
   ],
   "source": []
  },
  {
   "cell_type": "code",
   "execution_count": null,
   "metadata": {},
   "outputs": [],
   "source": []
  }
 ],
 "metadata": {
  "kernelspec": {
   "display_name": "base",
   "language": "python",
   "name": "python3"
  },
  "language_info": {
   "codemirror_mode": {
    "name": "ipython",
    "version": 3
   },
   "file_extension": ".py",
   "mimetype": "text/x-python",
   "name": "python",
   "nbconvert_exporter": "python",
   "pygments_lexer": "ipython3",
   "version": "3.12.4"
  }
 },
 "nbformat": 4,
 "nbformat_minor": 2
}
